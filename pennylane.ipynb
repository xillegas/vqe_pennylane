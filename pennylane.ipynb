{
 "cells": [
  {
   "attachments": {},
   "cell_type": "markdown",
   "metadata": {},
   "source": [
    "## VQE\n",
    "Tenemos \n",
    "$f(x_0, x_1,x_2) = 2x_0 - 4 x_0 x_1 + 3 x_1 x_2$\n",
    "\n",
    "Encontrar los valores binarios de las equis que minimice la función, el valor de mínima energía.\n",
    "\n",
    "| $x_0$ |  $x_1$ |  $x_2$ |  $f(x_{0,1,2})$ |\n",
    "|-------|--------|--------|-----------------|\n",
    "|0|0|0|0|\n",
    "|0|0|1|0|\n",
    "|0|1|0|0|\n",
    "|0|1|1|3|\n",
    "|1|0|0|2|\n",
    "|1|0|1|2|\n",
    "|1|1|0|**-2**|\n",
    "|1|1|1|1|\n",
    " \n",
    "Cambiamos $f(x)$ por $g(z)$ donde z sean coeficientes binarios pero de valor 1 y -1. Se logra con la conversión $x_i = (1-z_i) /2$\n",
    " \n",
    "Esto que se obtiene representa un circuito cuántico donde los subíndices de z definen el canal donde se hará la operación z, esto es:\n",
    "\n",
    "$\n",
    "  g(z_0, z_1, z_2) = \\frac{3}{4} + \\frac{1}{4}z_1 - \\frac{3}{4}z_2 - z_0 z_1 + \\frac{3}{4}z_1 z_2 \n",
    "$"
   ]
  },
  {
   "cell_type": "code",
   "execution_count": 3,
   "metadata": {},
   "outputs": [
    {
     "name": "stdout",
     "output_type": "stream",
     "text": [
      "epoch 0\n",
      "loss 1.2200000000000002\n",
      "epoch 50\n",
      "loss 0.7494999999999999\n",
      "epoch 100\n",
      "loss 0.49400000000000016\n",
      "epoch 150\n",
      "loss 0.3205000000000002\n",
      "epoch 200\n",
      "loss 0.20900000000000007\n",
      "epoch 250\n",
      "loss 0.10399999999999998\n",
      "epoch 300\n",
      "loss 0.01749999999999985\n",
      "epoch 350\n",
      "loss 0.062000000000000055\n",
      "epoch 400\n",
      "loss 0.02300000000000002\n",
      "epoch 450\n",
      "loss 0.019500000000000073\n",
      "epoch 500\n",
      "loss -0.0044999999999999485\n"
     ]
    },
    {
     "data": {
      "text/plain": [
       "[array(1, dtype=int64), array(1, dtype=int64), array(-1, dtype=int64)]"
      ]
     },
     "execution_count": 3,
     "metadata": {},
     "output_type": "execute_result"
    }
   ],
   "source": [
    "import pennylane as qml\n",
    "from pennylane import numpy as np\n",
    "\n",
    "variables = 3\n",
    "dev = qml.device(\"default.qubit\", wires= variables, shots = 1000)\n",
    "\n",
    "#@qml.template\n",
    "def phi(w):\n",
    "    qml.RX(w[0], wires=0)\n",
    "    qml.RX(w[1], wires=1)\n",
    "    qml.RX(w[2], wires=2)\n",
    "\n",
    "@qml.qnode(dev)\n",
    "def circ1(w):\n",
    "    phi(w)\n",
    "    return qml.expval(qml.Identity(wires=0) @ qml.Identity(wires=1) @ qml.Identity(wires=2))\n",
    "\n",
    "@qml.qnode(dev)\n",
    "def circ2(w):\n",
    "    phi(w)\n",
    "    return qml.expval(qml.Identity(wires=0) @ qml.PauliZ(wires=1) @ qml.Identity(wires=2))\n",
    "\n",
    "@qml.qnode(dev)\n",
    "def circ3(w):\n",
    "    phi(w)\n",
    "    return qml.expval(qml.Identity(wires=0) @ qml.Identity(wires=1) @ qml.PauliZ(wires=2))\n",
    "\n",
    "@qml.qnode(dev)\n",
    "def circ4(w):\n",
    "    phi(w)\n",
    "    return qml.expval(qml.PauliZ(wires=0) @ qml.PauliZ(wires=1) @ qml.Identity(wires=2))\n",
    "\n",
    "@qml.qnode(dev)\n",
    "def circ5(w):\n",
    "    phi(w)\n",
    "    return qml.expval(qml.Identity(wires=0) @ qml.PauliZ(wires=1) @ qml.PauliZ(wires=2))\n",
    "\n",
    "def value(w):\n",
    "    return 3*circ1(w)/4 + circ2(w)/4 - 3*circ3(w)/4 - circ4(w) + 3*circ5(w)/4\n",
    "\n",
    "w = qml.numpy.random.rand(3) * 2 * 3.14\n",
    "\n",
    "gradient_fn_w = qml.grad(value, argnum=0)\n",
    "\n",
    "lr=0.005\n",
    "for epoch in range(501):\n",
    "    w = w -lr*gradient_fn_w(w)\n",
    "    if epoch % 50 == 0:\n",
    "        print(\"epoch\", epoch)\n",
    "        print(\"loss\", value(w))\n",
    "\n",
    "@qml.qnode(qml.device('default.qubit', wires = variables, shots =1))\n",
    "def solucion(w):\n",
    "    phi(w)\n",
    "    return [qml.sample(qml.PauliZ(i)) for i in range(3)]\n",
    "\n",
    "solucion(w)"
   ]
  }
 ],
 "metadata": {
  "kernelspec": {
   "display_name": "qtest",
   "language": "python",
   "name": "python3"
  },
  "language_info": {
   "codemirror_mode": {
    "name": "ipython",
    "version": 3
   },
   "file_extension": ".py",
   "mimetype": "text/x-python",
   "name": "python",
   "nbconvert_exporter": "python",
   "pygments_lexer": "ipython3",
   "version": "3.10.9"
  },
  "orig_nbformat": 4
 },
 "nbformat": 4,
 "nbformat_minor": 2
}
